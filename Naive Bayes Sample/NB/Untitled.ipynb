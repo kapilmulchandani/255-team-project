{
 "cells": [
  {
   "cell_type": "code",
   "execution_count": 6,
   "metadata": {},
   "outputs": [],
   "source": [
    "import nltk\n",
    "import re\n",
    "import numpy as np\n",
    "from sklearn.model_selection import train_test_split\n",
    "from sklearn.feature_extraction.text import TfidfVectorizer\n",
    "from sklearn.naive_bayes import MultinomialNB\n",
    "from sklearn.linear_model import LogisticRegression\n",
    "from sklearn import metrics\n",
    "import pylab as pl"
   ]
  },
  {
   "cell_type": "code",
   "execution_count": 7,
   "metadata": {},
   "outputs": [],
   "source": [
    "def preprocess(tweet):\n",
    "    \n",
    "    #Convert www.* or https?://* to URL\n",
    "    tweet = re.sub('((www\\.[^\\s]+)|(https?://[^\\s]+))','URL',tweet)\n",
    "    \n",
    "    #Convert @username to __USERHANDLE\n",
    "    tweet = re.sub('@[^\\s]+','__USERHANDLE',tweet)  \n",
    "    \n",
    "    #Replace #word with word\n",
    "    tweet = re.sub(r'#([^\\s]+)', r'\\1', tweet)\n",
    "    \n",
    "    #trim\n",
    "    tweet = tweet.strip('\\'\"')\n",
    "    \n",
    "    # Repeating words like hellloooo\n",
    "    repeat_char = re.compile(r\"(.)\\1{1,}\", re.IGNORECASE)\n",
    "    tweet = repeat_char.sub(r\"\\1\\1\", tweet)\n",
    "    \n",
    "    #Emoticons\n",
    "    emoticons = \\\n",
    "    [\n",
    "     ('__positive__',[ ':-)', ':)', '(:', '(-:', \\\n",
    "                       ':-D', ':D', 'X-D', 'XD', 'xD', \\\n",
    "                       '<3', ':\\*', ';-)', ';)', ';-D', ';D', '(;', '(-;', ] ),\\\n",
    "     ('__negative__', [':-(', ':(', '(:', '(-:', ':,(',\\\n",
    "                       ':\\'(', ':\"(', ':((','D:' ] ),\\\n",
    "    ]\n",
    "\n",
    "    def replace_parenthesis(arr):\n",
    "       return [text.replace(')', '[)}\\]]').replace('(', '[({\\[]') for text in arr]\n",
    "    \n",
    "    def join_parenthesis(arr):\n",
    "        return '(' + '|'.join( arr ) + ')'\n",
    "\n",
    "    emoticons_regex = [ (repl, re.compile(join_parenthesis(replace_parenthesis(regx))) ) \\\n",
    "            for (repl, regx) in emoticons ]\n",
    "    \n",
    "    for (repl, regx) in emoticons_regex :\n",
    "        tweet = re.sub(regx, ' '+repl+' ', tweet)\n",
    "\n",
    "     #Convert to lower case\n",
    "    tweet = tweet.lower()\n",
    "    \n",
    "    return tweet\n"
   ]
  },
  {
   "cell_type": "code",
   "execution_count": 8,
   "metadata": {},
   "outputs": [],
   "source": [
    "#Stemming of Tweets\n",
    "\n",
    "def stem(tweet):\n",
    "        stemmer = nltk.stem.PorterStemmer()\n",
    "        tweet_stem = ''\n",
    "        words = [word if(word[0:2]=='__') else word.lower() \\\n",
    "                    for word in tweet.split() \\\n",
    "                    if len(word) >= 3]\n",
    "        words = [stemmer.stem(w) for w in words] \n",
    "        tweet_stem = ' '.join(words)\n",
    "        return tweet_stem"
   ]
  },
  {
   "cell_type": "code",
   "execution_count": 9,
   "metadata": {},
   "outputs": [
    {
     "data": {
      "text/plain": [
       "'\\nfor row in range(0,1600000):\\n    if y[row]==4:\\n        y[row]=1\\n    else:\\n        y[row]=0\\n'"
      ]
     },
     "execution_count": 9,
     "metadata": {},
     "output_type": "execute_result"
    }
   ],
   "source": [
    "import pandas as pd\n",
    "\n",
    "\n",
    "dataset = pd.read_csv('Training.csv',encoding='ISO-8859-1',header=None)\n",
    "X=dataset.iloc[:,5].values\n",
    "X=pd.Series(X)\n",
    "y=dataset.iloc[:,0].values\n",
    "'''\n",
    "for row in range(0,1600000):\n",
    "    if y[row]==4:\n",
    "        y[row]=1\n",
    "    else:\n",
    "        y[row]=0\n",
    "'''"
   ]
  },
  {
   "cell_type": "code",
   "execution_count": 10,
   "metadata": {},
   "outputs": [],
   "source": [
    "X_train, X_test, y_train, y_test = train_test_split(X,y,test_size=0.20, random_state=5)\n",
    "\n",
    "X_train = [stem(preprocess(tweet)) for tweet in X_train]\n",
    "X_test = [stem(preprocess(tweet)) for tweet in X_test]\n",
    "\n",
    "vec = TfidfVectorizer(min_df=5, max_df=0.95, sublinear_tf = True,use_idf = True,ngram_range=(1, 2))\n",
    "X_train_vec = vec.fit_transform(X_train)\n",
    "X_test_vec = vec.transform(X_test)\n",
    "nb = MultinomialNB()"
   ]
  },
  {
   "cell_type": "code",
   "execution_count": 11,
   "metadata": {},
   "outputs": [
    {
     "data": {
      "text/plain": [
       "MultinomialNB(alpha=1.0, class_prior=None, fit_prior=True)"
      ]
     },
     "execution_count": 11,
     "metadata": {},
     "output_type": "execute_result"
    }
   ],
   "source": [
    "nb.fit(X_train_vec, y_train)"
   ]
  },
  {
   "cell_type": "code",
   "execution_count": 12,
   "metadata": {},
   "outputs": [],
   "source": [
    "nb_predicted= nb.predict(X_test_vec)"
   ]
  },
  {
   "cell_type": "code",
   "execution_count": 13,
   "metadata": {},
   "outputs": [],
   "source": [
    "\n",
    "nb_score = round(nb.score(X_train_vec, y_train) * 100, 2)\n",
    "nb_score_test = round(nb.score(X_test_vec, y_test) * 100, 2)"
   ]
  },
  {
   "cell_type": "code",
   "execution_count": 15,
   "metadata": {},
   "outputs": [
    {
     "name": "stdout",
     "output_type": "stream",
     "text": [
      "('Naive Bayes  Training Score: \\n', 82.87)\n",
      "('Naive bayes Test Score: \\n', 79.83)\n",
      "('Coefficient: \\n', array([[ -9.51111953, -12.27963753, -14.75549296, ..., -13.19106124,\n",
      "        -12.85046565, -12.6598296 ]]))\n",
      "('Intercept: \\n', array([-0.69347692]))\n",
      "('Accuracy: \\n', 0.798309375)\n",
      "('Confusion Matrix: \\n', array([[128419,  31370],\n",
      "       [ 33171, 127040]]))\n",
      "('Classification Report: \\n', u'              precision    recall  f1-score   support\\n\\n           0       0.79      0.80      0.80    159789\\n           4       0.80      0.79      0.80    160211\\n\\n   micro avg       0.80      0.80      0.80    320000\\n   macro avg       0.80      0.80      0.80    320000\\nweighted avg       0.80      0.80      0.80    320000\\n')\n"
     ]
    }
   ],
   "source": [
    "print('Naive Bayes  Training Score: \\n', nb_score)\n",
    "print('Naive bayes Test Score: \\n', nb_score_test)\n",
    "print('Coefficient: \\n', nb.coef_)\n",
    "print('Intercept: \\n', nb.intercept_)\n",
    "print('Accuracy: \\n', metrics.accuracy_score(y_test,nb_predicted))\n",
    "print('Confusion Matrix: \\n', metrics.confusion_matrix(y_test,nb_predicted))\n",
    "print('Classification Report: \\n', metrics.classification_report(y_test,nb_predicted))"
   ]
  },
  {
   "cell_type": "code",
   "execution_count": null,
   "metadata": {},
   "outputs": [],
   "source": []
  }
 ],
 "metadata": {
  "kernelspec": {
   "display_name": "Python 2",
   "language": "python",
   "name": "python2"
  },
  "language_info": {
   "codemirror_mode": {
    "name": "ipython",
    "version": 2
   },
   "file_extension": ".py",
   "mimetype": "text/x-python",
   "name": "python",
   "nbconvert_exporter": "python",
   "pygments_lexer": "ipython2",
   "version": "2.7.16"
  }
 },
 "nbformat": 4,
 "nbformat_minor": 2
}
